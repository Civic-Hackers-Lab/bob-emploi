{
 "cells": [
  {
   "cell_type": "markdown",
   "metadata": {},
   "source": [
    "# Tous Bénévoles - Volunteering Missions\n",
    "\n",
    "Date: 2017-06-08\n",
    "Author: `pascal@bayes.org`\n",
    "\n",
    "We have access to an XML showing all the volunteering missions gathered by the [Tous Bénévoles](http://wwww.tousbenevoles.org) NGO. The URL is at the address `http://www.tousbenevoles.org/linkedin_webservice/xml/linkedin.xml` and is refreshed regularly.\n",
    "\n",
    "This notebook analyzes a snapshot to see what kind of data we can expect. Note that there's absolutely no guarantee from our partner that this data will have the same kind of data in the future or even keep the same format.\n",
    "\n",
    "To reproduce this notebook, first download the data using:\n",
    "```sh\n",
    "docker-compose run --rm make data/tous_benevoles.xml\n",
    "```\n",
    "\n",
    "Now let's import the Pandas module as well as the file itself."
   ]
  },
  {
   "cell_type": "code",
   "execution_count": 1,
   "metadata": {
    "collapsed": false
   },
   "outputs": [],
   "source": [
    "import os\n",
    "from os import path\n",
    "\n",
    "import pandas as pd\n",
    "import seaborn as _\n",
    "import xmltodict\n",
    "\n",
    "DATA_FOLDER = os.getenv('DATA_FOLDER')\n",
    "\n",
    "dataset = xmltodict.parse(open(path.join(DATA_FOLDER, 'tous_benevoles.xml'), 'rb'))"
   ]
  },
  {
   "cell_type": "markdown",
   "metadata": {},
   "source": [
    "## Structure\n",
    "\n",
    "Let's first have a look at the general structure of the XML."
   ]
  },
  {
   "cell_type": "code",
   "execution_count": 2,
   "metadata": {
    "collapsed": false
   },
   "outputs": [
    {
     "data": {
      "text/plain": [
       "collections.OrderedDict"
      ]
     },
     "execution_count": 2,
     "metadata": {},
     "output_type": "execute_result"
    }
   ],
   "source": [
    "type(dataset)"
   ]
  },
  {
   "cell_type": "code",
   "execution_count": 3,
   "metadata": {
    "collapsed": false
   },
   "outputs": [
    {
     "data": {
      "text/plain": [
       "odict_keys(['jobs'])"
      ]
     },
     "execution_count": 3,
     "metadata": {},
     "output_type": "execute_result"
    }
   ],
   "source": [
    "dataset.keys()"
   ]
  },
  {
   "cell_type": "code",
   "execution_count": 4,
   "metadata": {
    "collapsed": false
   },
   "outputs": [
    {
     "data": {
      "text/plain": [
       "collections.OrderedDict"
      ]
     },
     "execution_count": 4,
     "metadata": {},
     "output_type": "execute_result"
    }
   ],
   "source": [
    "type(dataset['jobs'])"
   ]
  },
  {
   "cell_type": "code",
   "execution_count": 5,
   "metadata": {
    "collapsed": false
   },
   "outputs": [
    {
     "data": {
      "text/plain": [
       "odict_keys(['job'])"
      ]
     },
     "execution_count": 5,
     "metadata": {},
     "output_type": "execute_result"
    }
   ],
   "source": [
    "dataset['jobs'].keys()"
   ]
  },
  {
   "cell_type": "code",
   "execution_count": 6,
   "metadata": {
    "collapsed": false
   },
   "outputs": [
    {
     "data": {
      "text/plain": [
       "list"
      ]
     },
     "execution_count": 6,
     "metadata": {},
     "output_type": "execute_result"
    }
   ],
   "source": [
    "type(dataset['jobs']['job'])"
   ]
  },
  {
   "cell_type": "code",
   "execution_count": 7,
   "metadata": {
    "collapsed": false
   },
   "outputs": [
    {
     "data": {
      "text/plain": [
       "1966"
      ]
     },
     "execution_count": 7,
     "metadata": {},
     "output_type": "execute_result"
    }
   ],
   "source": [
    "len(dataset['jobs']['job'])"
   ]
  },
  {
   "cell_type": "markdown",
   "metadata": {},
   "source": [
    "So it seems that we have a high level `jobs` element encompassing a list of `job` elements. Let's create a data frame with one \"job\" per row:"
   ]
  },
  {
   "cell_type": "code",
   "execution_count": 8,
   "metadata": {
    "collapsed": false
   },
   "outputs": [
    {
     "data": {
      "text/html": [
       "<div>\n",
       "<table border=\"1\" class=\"dataframe\">\n",
       "  <thead>\n",
       "    <tr style=\"text-align: right;\">\n",
       "      <th></th>\n",
       "      <th>City</th>\n",
       "      <th>Country</th>\n",
       "      <th>DesiredSkillsAndExperience</th>\n",
       "      <th>JobDescription</th>\n",
       "      <th>JobId</th>\n",
       "      <th>JobTitle</th>\n",
       "      <th>JobType</th>\n",
       "      <th>PostalCode</th>\n",
       "      <th>State</th>\n",
       "      <th>applyURL</th>\n",
       "    </tr>\n",
       "  </thead>\n",
       "  <tbody>\n",
       "    <tr>\n",
       "      <th>0</th>\n",
       "      <td>NICE</td>\n",
       "      <td>FR</td>\n",
       "      <td>&lt;b&gt;Compétences et savoir-être&lt;/b&gt;Ecoute, diplo...</td>\n",
       "      <td>Mission proposée par Club Informatique Péniten...</td>\n",
       "      <td>22566</td>\n",
       "      <td>Bénévolat : Délégué Régional du CLIP</td>\n",
       "      <td>VOLUNTEER</td>\n",
       "      <td>06000</td>\n",
       "      <td>France</td>\n",
       "      <td>http://www.tousbenevoles.org/trouver-une-missi...</td>\n",
       "    </tr>\n",
       "    <tr>\n",
       "      <th>1</th>\n",
       "      <td>MARSEILLE</td>\n",
       "      <td>FR</td>\n",
       "      <td>&lt;b&gt;Compétences et savoir-être&lt;/b&gt;Ecoute, diplo...</td>\n",
       "      <td>Mission proposée par Club Informatique Péniten...</td>\n",
       "      <td>22566</td>\n",
       "      <td>Bénévolat : Délégué Régional du CLIP</td>\n",
       "      <td>VOLUNTEER</td>\n",
       "      <td>13001</td>\n",
       "      <td>France</td>\n",
       "      <td>http://www.tousbenevoles.org/trouver-une-missi...</td>\n",
       "    </tr>\n",
       "    <tr>\n",
       "      <th>2</th>\n",
       "      <td>TOULOUSE</td>\n",
       "      <td>FR</td>\n",
       "      <td>&lt;b&gt;Compétences et savoir-être&lt;/b&gt;Ecoute, diplo...</td>\n",
       "      <td>Mission proposée par Club Informatique Péniten...</td>\n",
       "      <td>22566</td>\n",
       "      <td>Bénévolat : Délégué Régional du CLIP</td>\n",
       "      <td>VOLUNTEER</td>\n",
       "      <td>31000</td>\n",
       "      <td>France</td>\n",
       "      <td>http://www.tousbenevoles.org/trouver-une-missi...</td>\n",
       "    </tr>\n",
       "    <tr>\n",
       "      <th>3</th>\n",
       "      <td>BORDEAUX</td>\n",
       "      <td>FR</td>\n",
       "      <td>&lt;b&gt;Compétences et savoir-être&lt;/b&gt;Ecoute, diplo...</td>\n",
       "      <td>Mission proposée par Club Informatique Péniten...</td>\n",
       "      <td>22566</td>\n",
       "      <td>Bénévolat : Délégué Régional du CLIP</td>\n",
       "      <td>VOLUNTEER</td>\n",
       "      <td>33000</td>\n",
       "      <td>France</td>\n",
       "      <td>http://www.tousbenevoles.org/trouver-une-missi...</td>\n",
       "    </tr>\n",
       "    <tr>\n",
       "      <th>4</th>\n",
       "      <td>MONTPELLIER</td>\n",
       "      <td>FR</td>\n",
       "      <td>&lt;b&gt;Compétences et savoir-être&lt;/b&gt;Ecoute, diplo...</td>\n",
       "      <td>Mission proposée par Club Informatique Péniten...</td>\n",
       "      <td>22566</td>\n",
       "      <td>Bénévolat : Délégué Régional du CLIP</td>\n",
       "      <td>VOLUNTEER</td>\n",
       "      <td>34000</td>\n",
       "      <td>France</td>\n",
       "      <td>http://www.tousbenevoles.org/trouver-une-missi...</td>\n",
       "    </tr>\n",
       "  </tbody>\n",
       "</table>\n",
       "</div>"
      ],
      "text/plain": [
       "          City Country                         DesiredSkillsAndExperience  \\\n",
       "0         NICE      FR  <b>Compétences et savoir-être</b>Ecoute, diplo...   \n",
       "1    MARSEILLE      FR  <b>Compétences et savoir-être</b>Ecoute, diplo...   \n",
       "2     TOULOUSE      FR  <b>Compétences et savoir-être</b>Ecoute, diplo...   \n",
       "3     BORDEAUX      FR  <b>Compétences et savoir-être</b>Ecoute, diplo...   \n",
       "4  MONTPELLIER      FR  <b>Compétences et savoir-être</b>Ecoute, diplo...   \n",
       "\n",
       "                                      JobDescription  JobId  \\\n",
       "0  Mission proposée par Club Informatique Péniten...  22566   \n",
       "1  Mission proposée par Club Informatique Péniten...  22566   \n",
       "2  Mission proposée par Club Informatique Péniten...  22566   \n",
       "3  Mission proposée par Club Informatique Péniten...  22566   \n",
       "4  Mission proposée par Club Informatique Péniten...  22566   \n",
       "\n",
       "                               JobTitle    JobType PostalCode   State  \\\n",
       "0  Bénévolat : Délégué Régional du CLIP  VOLUNTEER      06000  France   \n",
       "1  Bénévolat : Délégué Régional du CLIP  VOLUNTEER      13001  France   \n",
       "2  Bénévolat : Délégué Régional du CLIP  VOLUNTEER      31000  France   \n",
       "3  Bénévolat : Délégué Régional du CLIP  VOLUNTEER      33000  France   \n",
       "4  Bénévolat : Délégué Régional du CLIP  VOLUNTEER      34000  France   \n",
       "\n",
       "                                            applyURL  \n",
       "0  http://www.tousbenevoles.org/trouver-une-missi...  \n",
       "1  http://www.tousbenevoles.org/trouver-une-missi...  \n",
       "2  http://www.tousbenevoles.org/trouver-une-missi...  \n",
       "3  http://www.tousbenevoles.org/trouver-une-missi...  \n",
       "4  http://www.tousbenevoles.org/trouver-une-missi...  "
      ]
     },
     "execution_count": 8,
     "metadata": {},
     "output_type": "execute_result"
    }
   ],
   "source": [
    "jobs = pd.DataFrame(dataset['jobs']['job'])\n",
    "jobs.head()"
   ]
  },
  {
   "cell_type": "markdown",
   "metadata": {},
   "source": [
    "Awesome, we're now ready to dig into the data itself.\n",
    "\n",
    "## Fields\n",
    "\n",
    "Let's first check basic stats per column:"
   ]
  },
  {
   "cell_type": "code",
   "execution_count": 9,
   "metadata": {
    "collapsed": false
   },
   "outputs": [
    {
     "data": {
      "text/html": [
       "<div>\n",
       "<table border=\"1\" class=\"dataframe\">\n",
       "  <thead>\n",
       "    <tr style=\"text-align: right;\">\n",
       "      <th></th>\n",
       "      <th>City</th>\n",
       "      <th>Country</th>\n",
       "      <th>DesiredSkillsAndExperience</th>\n",
       "      <th>JobDescription</th>\n",
       "      <th>JobId</th>\n",
       "      <th>JobTitle</th>\n",
       "      <th>JobType</th>\n",
       "      <th>PostalCode</th>\n",
       "      <th>State</th>\n",
       "      <th>applyURL</th>\n",
       "    </tr>\n",
       "  </thead>\n",
       "  <tbody>\n",
       "    <tr>\n",
       "      <th>count</th>\n",
       "      <td>1966</td>\n",
       "      <td>1966</td>\n",
       "      <td>1966</td>\n",
       "      <td>1966</td>\n",
       "      <td>1966</td>\n",
       "      <td>1966</td>\n",
       "      <td>1966</td>\n",
       "      <td>1966</td>\n",
       "      <td>1966</td>\n",
       "      <td>1966</td>\n",
       "    </tr>\n",
       "    <tr>\n",
       "      <th>unique</th>\n",
       "      <td>382</td>\n",
       "      <td>1</td>\n",
       "      <td>968</td>\n",
       "      <td>1133</td>\n",
       "      <td>1486</td>\n",
       "      <td>1238</td>\n",
       "      <td>1</td>\n",
       "      <td>339</td>\n",
       "      <td>1</td>\n",
       "      <td>1486</td>\n",
       "    </tr>\n",
       "    <tr>\n",
       "      <th>top</th>\n",
       "      <td>LEFFRINCKOUCKE</td>\n",
       "      <td>FR</td>\n",
       "      <td>&lt;b&gt;Compétences et savoir-être&lt;/b&gt;Ecoute – Comp...</td>\n",
       "      <td>Mission proposée par Auxilia Association Recon...</td>\n",
       "      <td>32275</td>\n",
       "      <td>Bénévolat : Devenir Parrain/Marraine d'un laur...</td>\n",
       "      <td>VOLUNTEER</td>\n",
       "      <td>95</td>\n",
       "      <td>France</td>\n",
       "      <td>http://www.tousbenevoles.org/trouver-une-missi...</td>\n",
       "    </tr>\n",
       "    <tr>\n",
       "      <th>freq</th>\n",
       "      <td>135</td>\n",
       "      <td>1966</td>\n",
       "      <td>63</td>\n",
       "      <td>22</td>\n",
       "      <td>11</td>\n",
       "      <td>22</td>\n",
       "      <td>1966</td>\n",
       "      <td>136</td>\n",
       "      <td>1966</td>\n",
       "      <td>11</td>\n",
       "    </tr>\n",
       "  </tbody>\n",
       "</table>\n",
       "</div>"
      ],
      "text/plain": [
       "                  City Country  \\\n",
       "count             1966    1966   \n",
       "unique             382       1   \n",
       "top     LEFFRINCKOUCKE      FR   \n",
       "freq               135    1966   \n",
       "\n",
       "                               DesiredSkillsAndExperience  \\\n",
       "count                                                1966   \n",
       "unique                                                968   \n",
       "top     <b>Compétences et savoir-être</b>Ecoute – Comp...   \n",
       "freq                                                   63   \n",
       "\n",
       "                                           JobDescription  JobId  \\\n",
       "count                                                1966   1966   \n",
       "unique                                               1133   1486   \n",
       "top     Mission proposée par Auxilia Association Recon...  32275   \n",
       "freq                                                   22     11   \n",
       "\n",
       "                                                 JobTitle    JobType  \\\n",
       "count                                                1966       1966   \n",
       "unique                                               1238          1   \n",
       "top     Bénévolat : Devenir Parrain/Marraine d'un laur...  VOLUNTEER   \n",
       "freq                                                   22       1966   \n",
       "\n",
       "       PostalCode   State                                           applyURL  \n",
       "count        1966    1966                                               1966  \n",
       "unique        339       1                                               1486  \n",
       "top            95  France  http://www.tousbenevoles.org/trouver-une-missi...  \n",
       "freq          136    1966                                                 11  "
      ]
     },
     "execution_count": 9,
     "metadata": {},
     "output_type": "execute_result"
    }
   ],
   "source": [
    "jobs.describe()"
   ]
  },
  {
   "cell_type": "markdown",
   "metadata": {},
   "source": [
    "So not surprisingly some fields are always constant (they are probably there to fit the format of another partner, maybe LinkedIn):\n",
    "* `Country` is always \"FR\"\n",
    "* `JobType` is always \"VOLUNTEER\"\n",
    "* `State` is always \"France\"\n",
    "\n",
    "### JobId\n",
    "\n",
    "Now let's check the `JobId` field as it could be used as a unique identifier. However apparently there are multiple rows with the same ID (1966 rows for only 1238 IDs), let's have a quick look at rows that have the same `JobId`. First let's find IDs where there are multiple rows."
   ]
  },
  {
   "cell_type": "code",
   "execution_count": 10,
   "metadata": {
    "collapsed": false
   },
   "outputs": [
    {
     "data": {
      "text/plain": [
       "JobId\n",
       "13377    11\n",
       "18781    11\n",
       "18782    11\n",
       "20468    11\n",
       "22448    11\n",
       "dtype: int64"
      ]
     },
     "execution_count": 10,
     "metadata": {},
     "output_type": "execute_result"
    }
   ],
   "source": [
    "jobs[jobs.duplicated(subset='JobId', keep=False)].groupby('JobId').size().head()"
   ]
  },
  {
   "cell_type": "markdown",
   "metadata": {},
   "source": [
    "Odd: it seems that all the JobId that have several rows have exactly 11 rows. It might be worth to check that later. Now let's take the first ID above and check the stats for the rows corresponding to this `JobId`."
   ]
  },
  {
   "cell_type": "code",
   "execution_count": 11,
   "metadata": {
    "collapsed": false
   },
   "outputs": [
    {
     "data": {
      "text/html": [
       "<div>\n",
       "<table border=\"1\" class=\"dataframe\">\n",
       "  <thead>\n",
       "    <tr style=\"text-align: right;\">\n",
       "      <th></th>\n",
       "      <th>City</th>\n",
       "      <th>Country</th>\n",
       "      <th>DesiredSkillsAndExperience</th>\n",
       "      <th>JobDescription</th>\n",
       "      <th>JobId</th>\n",
       "      <th>JobTitle</th>\n",
       "      <th>JobType</th>\n",
       "      <th>PostalCode</th>\n",
       "      <th>State</th>\n",
       "      <th>applyURL</th>\n",
       "    </tr>\n",
       "  </thead>\n",
       "  <tbody>\n",
       "    <tr>\n",
       "      <th>count</th>\n",
       "      <td>11</td>\n",
       "      <td>11</td>\n",
       "      <td>11</td>\n",
       "      <td>11</td>\n",
       "      <td>11</td>\n",
       "      <td>11</td>\n",
       "      <td>11</td>\n",
       "      <td>11</td>\n",
       "      <td>11</td>\n",
       "      <td>11</td>\n",
       "    </tr>\n",
       "    <tr>\n",
       "      <th>unique</th>\n",
       "      <td>11</td>\n",
       "      <td>1</td>\n",
       "      <td>1</td>\n",
       "      <td>1</td>\n",
       "      <td>1</td>\n",
       "      <td>1</td>\n",
       "      <td>1</td>\n",
       "      <td>11</td>\n",
       "      <td>1</td>\n",
       "      <td>1</td>\n",
       "    </tr>\n",
       "    <tr>\n",
       "      <th>top</th>\n",
       "      <td>RENNES</td>\n",
       "      <td>FR</td>\n",
       "      <td>&lt;b&gt;Compétences et savoir-être&lt;/b&gt;Respect de la...</td>\n",
       "      <td>Mission proposée par Auxilia Association Recon...</td>\n",
       "      <td>13377</td>\n",
       "      <td>Bénévolat : Formation par correspondance REMIS...</td>\n",
       "      <td>VOLUNTEER</td>\n",
       "      <td>69001</td>\n",
       "      <td>France</td>\n",
       "      <td>http://www.tousbenevoles.org/trouver-une-missi...</td>\n",
       "    </tr>\n",
       "    <tr>\n",
       "      <th>freq</th>\n",
       "      <td>1</td>\n",
       "      <td>11</td>\n",
       "      <td>11</td>\n",
       "      <td>11</td>\n",
       "      <td>11</td>\n",
       "      <td>11</td>\n",
       "      <td>11</td>\n",
       "      <td>1</td>\n",
       "      <td>11</td>\n",
       "      <td>11</td>\n",
       "    </tr>\n",
       "  </tbody>\n",
       "</table>\n",
       "</div>"
      ],
      "text/plain": [
       "          City Country                         DesiredSkillsAndExperience  \\\n",
       "count       11      11                                                 11   \n",
       "unique      11       1                                                  1   \n",
       "top     RENNES      FR  <b>Compétences et savoir-être</b>Respect de la...   \n",
       "freq         1      11                                                 11   \n",
       "\n",
       "                                           JobDescription  JobId  \\\n",
       "count                                                  11     11   \n",
       "unique                                                  1      1   \n",
       "top     Mission proposée par Auxilia Association Recon...  13377   \n",
       "freq                                                   11     11   \n",
       "\n",
       "                                                 JobTitle    JobType  \\\n",
       "count                                                  11         11   \n",
       "unique                                                  1          1   \n",
       "top     Bénévolat : Formation par correspondance REMIS...  VOLUNTEER   \n",
       "freq                                                   11         11   \n",
       "\n",
       "       PostalCode   State                                           applyURL  \n",
       "count          11      11                                                 11  \n",
       "unique         11       1                                                  1  \n",
       "top         69001  France  http://www.tousbenevoles.org/trouver-une-missi...  \n",
       "freq            1      11                                                 11  "
      ]
     },
     "execution_count": 11,
     "metadata": {},
     "output_type": "execute_result"
    }
   ],
   "source": [
    "jobs[jobs.JobId == '13377'].describe()"
   ]
  },
  {
   "cell_type": "markdown",
   "metadata": {},
   "source": [
    "Cool, for this one at least, it seems that all the fields are in common except for the `City` and the `PostalCode` as if the same job was available in several cities and as such was cut in several rows to fit a dedicated format. Let's make sure it's indeed the case with all the IDs with multiple rows:"
   ]
  },
  {
   "cell_type": "code",
   "execution_count": 12,
   "metadata": {
    "collapsed": false
   },
   "outputs": [
    {
     "data": {
      "text/plain": [
       "1    1486\n",
       "dtype: int64"
      ]
     },
     "execution_count": 12,
     "metadata": {},
     "output_type": "execute_result"
    }
   ],
   "source": [
    "all_fields_but_geo = set(jobs.columns) - set(('City', 'PostalCode'))\n",
    "jobs.drop_duplicates(subset=all_fields_but_geo)\\\n",
    "    .groupby('JobId')\\\n",
    "    .size()\\\n",
    "    .value_counts()"
   ]
  },
  {
   "cell_type": "markdown",
   "metadata": {},
   "source": [
    "Alright, our assumption was true, when the same job ID is used on multiple row it's only to specify several cities for the same job.\n",
    "\n",
    "# Geographic Distribution\n",
    "\n",
    "Now let's look at the City field in order to get the distribution of jobs (= volunteering missions) in various cities."
   ]
  },
  {
   "cell_type": "code",
   "execution_count": 13,
   "metadata": {
    "collapsed": false
   },
   "outputs": [
    {
     "data": {
      "image/png": "[encoded data removed]",
      "text/plain": [
       "<matplotlib.figure.Figure at 0x7fe522b47080>"
      ]
     },
     "metadata": {},
     "output_type": "display_data"
    }
   ],
   "source": [
    "_ = jobs.groupby('City').size().sort_values(ascending=False).head(20).sort_values().plot(kind='barh')"
   ]
  },
  {
   "cell_type": "markdown",
   "metadata": {},
   "source": [
    "Hmmm, this is not at all what we expected:\n",
    "* the city with the most missions is called \"LEFFRINCKOUCKE\", never heard of that!\n",
    "* the first cities are the big ones, but Paris doesn't stand out. Looking a bit further it seems to be because Paris is divided by various postcodes.\n",
    "\n",
    "Let's investigate the LEFFRINCKOUCKE case first. What is its postcode?"
   ]
  },
  {
   "cell_type": "code",
   "execution_count": 14,
   "metadata": {
    "collapsed": false
   },
   "outputs": [
    {
     "data": {
      "text/plain": [
       "array(['95'], dtype=object)"
      ]
     },
     "execution_count": 14,
     "metadata": {},
     "output_type": "execute_result"
    }
   ],
   "source": [
    "jobs[jobs.City == 'LEFFRINCKOUCKE'].PostalCode.unique()"
   ]
  },
  {
   "cell_type": "markdown",
   "metadata": {},
   "source": [
    "Hmm, weird, this is not a postcode but rather a French département ID. Checking on [Google](https://www.google.fr/search?q=LEFFRINCKOUCKE), it seems that LEFFRINCKOUCKE is indeed a French city but it is supposed to be in the département \"Nord\" and its postcode should thus start with `59`.\n",
    "\n",
    "Let's drop that for now: we'll contact our partner to get an explanation.\n",
    "\n",
    "What about Paris?"
   ]
  },
  {
   "cell_type": "code",
   "execution_count": 15,
   "metadata": {
    "collapsed": false
   },
   "outputs": [
    {
     "data": {
      "text/plain": [
       "PARIS          49\n",
       "PARIS 75018    34\n",
       "PARIS 75020    26\n",
       "PARIS 75012    24\n",
       "PARIS 75014    19\n",
       "PARIS 75015    17\n",
       "PARIS 75011    15\n",
       "PARIS 75019    15\n",
       "PARIS 13       13\n",
       "PARIS 75005    13\n",
       "PARIS 75009    12\n",
       "PARIS 18       10\n",
       "PARIS 20        9\n",
       "PARIS 75013     9\n",
       "PARIS 75007     8\n",
       "PARIS 15        7\n",
       "PARIS 75006     6\n",
       "PARIS 12        6\n",
       "PARIS 75017     6\n",
       "PARIS 75010     6\n",
       "PARIS 75002     5\n",
       "PARIS 10        5\n",
       "PARIS 19        4\n",
       "PARIS 75008     3\n",
       "PARIS 7         3\n",
       "PARIS 75116     3\n",
       "PARIS 2         2\n",
       "PARIS 14        2\n",
       "PARIS 6         2\n",
       "PARIS 17        2\n",
       "PARIS 5         2\n",
       "PARIS 11        2\n",
       "PARIS 9         1\n",
       "PARIS 16        1\n",
       "PARIS 75016     1\n",
       "PARIS 75004     1\n",
       "Name: City, dtype: int64"
      ]
     },
     "execution_count": 15,
     "metadata": {},
     "output_type": "execute_result"
    }
   ],
   "source": [
    "jobs[jobs.City.str.startswith('PARIS')].City.value_counts()"
   ]
  },
  {
   "cell_type": "markdown",
   "metadata": {},
   "source": [
    "It seems clear that the city name is not harmonized, at least for Paris: sometimes it's the whole city, sometimes it's only an arrondissement, and sometimes the city name contains the postcode itself.\n",
    "\n",
    "Let's do a quick check if it's the case for other cities:"
   ]
  },
  {
   "cell_type": "code",
   "execution_count": 16,
   "metadata": {
    "collapsed": false
   },
   "outputs": [
    {
     "data": {
      "text/plain": [
       "LYON 69007               5\n",
       "LYON 69002               5\n",
       "MARSEILLE 13008          5\n",
       "LYON 69006               3\n",
       "AMIENS 80090             3\n",
       "MARSEILLE 13010          2\n",
       "MULHOUSE 68200           2\n",
       "MARSEILLE 13005          2\n",
       "TOULOUSE 31400           2\n",
       "LYON 7                   2\n",
       "AIX EN PROVENCE 13090    1\n",
       "MARSEILLE 13014          1\n",
       "MARSEILLE 2              1\n",
       "ARLES 13200              1\n",
       "TOULOUSE 31500           1\n",
       "ORLEANS 45100            1\n",
       "BORDEAUX 33300           1\n",
       "AIX EN PROVENCE 13290    1\n",
       "LYON 69008               1\n",
       "MARSEILLE 4              1\n",
       "MARSEILLE 13007          1\n",
       "ST DENIS 93210           1\n",
       "MARSEILLE 5              1\n",
       "MONTPELLIER 34080        1\n",
       "LYON 69003               1\n",
       "MARSEILLE 13002          1\n",
       "GRENOBLE 38100           1\n",
       "MARSEILLE 13013          1\n",
       "Name: City, dtype: int64"
      ]
     },
     "execution_count": 16,
     "metadata": {},
     "output_type": "execute_result"
    }
   ],
   "source": [
    "jobs[(jobs.City.str.contains('[A-Z] [0-9]')) & ~(jobs.City.str.startswith('PARIS'))].City.value_counts()"
   ]
  },
  {
   "cell_type": "markdown",
   "metadata": {},
   "source": [
    "Obviously this is the case with the other cities that have multiple arrondissements, but it seems to be also the case with cities that have multiple postal codes for the same city (like `Toulouse` which is `31000` but use `TOULOUSE 31400` and `TOULOUSE 31500`, or `Orléans` which is `45000` but also use `ORLEANS 45100`).\n",
    "\n",
    "This might be a problem, as in our application we do not keep track of which part of the city someone is: even for Paris, Marseille & Lyon this info is only kept in the name for display, we do not have any distinguishing ID for user target job's location.\n",
    "\n",
    "Let's clean it up and only keep the city's name:"
   ]
  },
  {
   "cell_type": "code",
   "execution_count": 17,
   "metadata": {
    "collapsed": false
   },
   "outputs": [
    {
     "data": {
      "text/plain": [
       "PARIS             343\n",
       "LEFFRINCKOUCKE    135\n",
       "CERGY              68\n",
       "MARSEILLE          68\n",
       "LYON               67\n",
       "Name: clean_city, dtype: int64"
      ]
     },
     "execution_count": 17,
     "metadata": {},
     "output_type": "execute_result"
    }
   ],
   "source": [
    "jobs['clean_city'] = jobs['City'].str.replace(' \\d+', '')\n",
    "jobs.clean_city.value_counts().head()"
   ]
  },
  {
   "cell_type": "markdown",
   "metadata": {},
   "source": [
    "Now that it's cleaned, let's see the distribution by cities (excluding LEFFRINCKOUCKE):"
   ]
  },
  {
   "cell_type": "code",
   "execution_count": 18,
   "metadata": {
    "collapsed": false
   },
   "outputs": [
    {
     "data": {
      "image/png": "[encoded data removed]",
      "text/plain": [
       "<matplotlib.figure.Figure at 0x7fe51f213240>"
      ]
     },
     "metadata": {},
     "output_type": "display_data"
    }
   ],
   "source": [
    "_ = jobs[jobs.City != 'LEFFRINCKOUCKE'].\\\n",
    "    groupby('clean_city').size().sort_values(ascending=False).\\\n",
    "    head(20).sort_values().plot(kind='barh')"
   ]
  },
  {
   "cell_type": "markdown",
   "metadata": {},
   "source": [
    "This is kind of what we would expect, there is a weird small city \"Gandrange\" that has about 35 missions but that might be possible as well.\n",
    "\n",
    "Let's plot now the number of cities with enough missions to be shown:"
   ]
  },
  {
   "cell_type": "code",
   "execution_count": 19,
   "metadata": {
    "collapsed": false
   },
   "outputs": [
    {
     "data": {
      "image/png": "[encoded data removed]",
      "text/plain": [
       "<matplotlib.figure.Figure at 0x7fe522b3deb8>"
      ]
     },
     "metadata": {},
     "output_type": "display_data"
    }
   ],
   "source": [
    "_ = jobs[jobs.City != 'LEFFRINCKOUCKE']\\\n",
    "    .groupby('clean_city').size().sort_values(ascending=False)\\\n",
    "    .reset_index(drop=True)\\\n",
    "    .plot(ylim=(0, 50))  # 50 is taken from the chart above."
   ]
  },
  {
   "cell_type": "markdown",
   "metadata": {},
   "source": [
    "There are missions in about 320 cities, but more than half of them have only one mission and only ~60 cities have at least 3 missions. I suggest we show the missions in a person's cities but also the one in their département if there are less than 3 in the city.\n",
    "\n",
    "So let's check the distribution at the département level:"
   ]
  },
  {
   "cell_type": "code",
   "execution_count": 20,
   "metadata": {
    "collapsed": false
   },
   "outputs": [
    {
     "data": {
      "image/png": "[encoded data removed]",
      "text/plain": [
       "<matplotlib.figure.Figure at 0x7fe51f1a0630>"
      ]
     },
     "metadata": {},
     "output_type": "display_data"
    }
   ],
   "source": [
    "jobs['departement'] = jobs.PostalCode.str[:2]\n",
    "jobs_per_departement = jobs[jobs.City != 'LEFFRINCKOUCKE'].groupby('departement').size().sort_values(ascending=False)\n",
    "_ = jobs_per_departement.head(20).plot(kind='bar')"
   ]
  },
  {
   "cell_type": "markdown",
   "metadata": {},
   "source": [
    "Not surprisingly we get the départment with top cities (Paris, Lyon, Marseille) as the first ones, and then in `95` where the organization might have done some dedicated work.\n",
    "\n",
    "Let's now check the coverage over all départements:"
   ]
  },
  {
   "cell_type": "code",
   "execution_count": 21,
   "metadata": {
    "collapsed": false
   },
   "outputs": [
    {
     "data": {
      "image/png": "[encoded data removed]",
      "text/plain": [
       "<matplotlib.figure.Figure at 0x7fe5584e74a8>"
      ]
     },
     "metadata": {},
     "output_type": "display_data"
    }
   ],
   "source": [
    "_ = jobs_per_departement\\\n",
    "    .reset_index(drop=True)\\\n",
    "    .plot(ylim=(0, 100))  # 100 was taken from the chart above."
   ]
  },
  {
   "cell_type": "markdown",
   "metadata": {},
   "source": [
    "Missions are not in all départements (there are 100 départements) and most of them have less than 20 missions. However there are more than 15 départements where there are 40 different missions and still a very large number of départements with 3 missions or more:"
   ]
  },
  {
   "cell_type": "code",
   "execution_count": 22,
   "metadata": {
    "collapsed": false
   },
   "outputs": [
    {
     "data": {
      "text/plain": [
       "47"
      ]
     },
     "execution_count": 22,
     "metadata": {},
     "output_type": "execute_result"
    }
   ],
   "source": [
    "sum(jobs_per_departement >= 3)"
   ]
  },
  {
   "cell_type": "markdown",
   "metadata": {},
   "source": [
    "## Missing Fields\n",
    "\n",
    "Now we would also like to extract from each row, the organization that is proposing the mission a nice title and a description. Let's see if we can find that in the `JobDescription` and `JobTitle` fields:"
   ]
  },
  {
   "cell_type": "code",
   "execution_count": 23,
   "metadata": {
    "collapsed": false
   },
   "outputs": [
    {
     "data": {
      "text/html": [
       "<div>\n",
       "<table border=\"1\" class=\"dataframe\">\n",
       "  <thead>\n",
       "    <tr style=\"text-align: right;\">\n",
       "      <th></th>\n",
       "      <th>0</th>\n",
       "      <th>11</th>\n",
       "      <th>22</th>\n",
       "      <th>33</th>\n",
       "      <th>44</th>\n",
       "    </tr>\n",
       "  </thead>\n",
       "  <tbody>\n",
       "    <tr>\n",
       "      <th>JobDescription</th>\n",
       "      <td>Mission proposée par Club Informatique Péniten...</td>\n",
       "      <td>Mission proposée par Construisons Ensemble Com...</td>\n",
       "      <td>Mission proposée par BackUp Rural&lt;br /&gt;&lt;b&gt;Info...</td>\n",
       "      <td>Mission proposée par Association Française con...</td>\n",
       "      <td>Mission proposée par ArkéoTopia, une autre voi...</td>\n",
       "    </tr>\n",
       "    <tr>\n",
       "      <th>JobTitle</th>\n",
       "      <td>Bénévolat : Délégué Régional du CLIP</td>\n",
       "      <td>Bénévolat : Community Manager Facebook</td>\n",
       "      <td>Bénévolat : Chargé(e) de projets humanitaires</td>\n",
       "      <td>Bénévolat : Equipier régional \"Mobilisation de...</td>\n",
       "      <td>Bénévolat : Community Manager - Archéologie</td>\n",
       "    </tr>\n",
       "  </tbody>\n",
       "</table>\n",
       "</div>"
      ],
      "text/plain": [
       "                                                               0   \\\n",
       "JobDescription  Mission proposée par Club Informatique Péniten...   \n",
       "JobTitle                     Bénévolat : Délégué Régional du CLIP   \n",
       "\n",
       "                                                               11  \\\n",
       "JobDescription  Mission proposée par Construisons Ensemble Com...   \n",
       "JobTitle                   Bénévolat : Community Manager Facebook   \n",
       "\n",
       "                                                               22  \\\n",
       "JobDescription  Mission proposée par BackUp Rural<br /><b>Info...   \n",
       "JobTitle            Bénévolat : Chargé(e) de projets humanitaires   \n",
       "\n",
       "                                                               33  \\\n",
       "JobDescription  Mission proposée par Association Française con...   \n",
       "JobTitle        Bénévolat : Equipier régional \"Mobilisation de...   \n",
       "\n",
       "                                                               44  \n",
       "JobDescription  Mission proposée par ArkéoTopia, une autre voi...  \n",
       "JobTitle              Bénévolat : Community Manager - Archéologie  "
      ]
     },
     "execution_count": 23,
     "metadata": {},
     "output_type": "execute_result"
    }
   ],
   "source": [
    "jobs[['JobDescription', 'JobTitle']].drop_duplicates().head().transpose()"
   ]
  },
  {
   "cell_type": "markdown",
   "metadata": {},
   "source": [
    "It seems that `JobDescription` always starts with \"Mission proposée par\" and that `JobTitle` always start with \"Bénévolat : \". Let's make sure it's the case:"
   ]
  },
  {
   "cell_type": "code",
   "execution_count": 24,
   "metadata": {
    "collapsed": false
   },
   "outputs": [
    {
     "data": {
      "text/plain": [
       "True    1966\n",
       "Name: JobDescription, dtype: int64"
      ]
     },
     "execution_count": 24,
     "metadata": {},
     "output_type": "execute_result"
    }
   ],
   "source": [
    "jobs.JobDescription.str.startswith('Mission proposée par ').value_counts()"
   ]
  },
  {
   "cell_type": "code",
   "execution_count": 25,
   "metadata": {
    "collapsed": false
   },
   "outputs": [
    {
     "data": {
      "text/plain": [
       "True    1966\n",
       "Name: JobTitle, dtype: int64"
      ]
     },
     "execution_count": 25,
     "metadata": {},
     "output_type": "execute_result"
    }
   ],
   "source": [
    "jobs.JobTitle.str.startswith('Bénévolat : ').value_counts()"
   ]
  },
  {
   "cell_type": "markdown",
   "metadata": {},
   "source": [
    "Bingo, let's extract those constant strings and clean up the description and title:"
   ]
  },
  {
   "cell_type": "code",
   "execution_count": 26,
   "metadata": {
    "collapsed": false
   },
   "outputs": [
    {
     "data": {
      "text/html": [
       "<div>\n",
       "<table border=\"1\" class=\"dataframe\">\n",
       "  <thead>\n",
       "    <tr style=\"text-align: right;\">\n",
       "      <th></th>\n",
       "      <th>title</th>\n",
       "      <th>proposed_by</th>\n",
       "      <th>description</th>\n",
       "    </tr>\n",
       "  </thead>\n",
       "  <tbody>\n",
       "    <tr>\n",
       "      <th>0</th>\n",
       "      <td>Délégué Régional du CLIP</td>\n",
       "      <td>Club Informatique Pénitentiaire</td>\n",
       "      <td>&lt;b&gt;Informations complémentaires&lt;/b&gt;Le délégué ...</td>\n",
       "    </tr>\n",
       "    <tr>\n",
       "      <th>11</th>\n",
       "      <td>Community Manager Facebook</td>\n",
       "      <td>Construisons Ensemble Comment Faire</td>\n",
       "      <td>&lt;b&gt;Informations complémentaires&lt;/b&gt;\\nMission  ...</td>\n",
       "    </tr>\n",
       "    <tr>\n",
       "      <th>22</th>\n",
       "      <td>Chargé(e) de projets humanitaires</td>\n",
       "      <td>BackUp Rural</td>\n",
       "      <td>&lt;b&gt;Informations complémentaires&lt;/b&gt;        1. ...</td>\n",
       "    </tr>\n",
       "    <tr>\n",
       "      <th>33</th>\n",
       "      <td>Equipier régional \"Mobilisation des entreprises\"</td>\n",
       "      <td>Association Française contre les Myopathies - ...</td>\n",
       "      <td>&lt;b&gt;Informations complémentaires&lt;/b&gt; \\n \\n \\n \\...</td>\n",
       "    </tr>\n",
       "    <tr>\n",
       "      <th>44</th>\n",
       "      <td>Community Manager - Archéologie</td>\n",
       "      <td>ArkéoTopia, une autre voie pour l'archéologie</td>\n",
       "      <td>&lt;b&gt;Informations complémentaires&lt;/b&gt;Mission : P...</td>\n",
       "    </tr>\n",
       "  </tbody>\n",
       "</table>\n",
       "</div>"
      ],
      "text/plain": [
       "                                               title  \\\n",
       "0                           Délégué Régional du CLIP   \n",
       "11                        Community Manager Facebook   \n",
       "22                 Chargé(e) de projets humanitaires   \n",
       "33  Equipier régional \"Mobilisation des entreprises\"   \n",
       "44                   Community Manager - Archéologie   \n",
       "\n",
       "                                          proposed_by  \\\n",
       "0                     Club Informatique Pénitentiaire   \n",
       "11               Construisons Ensemble Comment Faire    \n",
       "22                                       BackUp Rural   \n",
       "33  Association Française contre les Myopathies - ...   \n",
       "44      ArkéoTopia, une autre voie pour l'archéologie   \n",
       "\n",
       "                                          description  \n",
       "0   <b>Informations complémentaires</b>Le délégué ...  \n",
       "11  <b>Informations complémentaires</b>\\nMission  ...  \n",
       "22  <b>Informations complémentaires</b>        1. ...  \n",
       "33  <b>Informations complémentaires</b> \\n \\n \\n \\...  \n",
       "44  <b>Informations complémentaires</b>Mission : P...  "
      ]
     },
     "execution_count": 26,
     "metadata": {},
     "output_type": "execute_result"
    }
   ],
   "source": [
    "jobs['title'] = jobs.JobTitle.str.replace('^Bénévolat : ', '')\n",
    "jobs['proposed_by'] = jobs.JobDescription.str.extract('^Mission proposée par ([^<]+)<br />', expand=False)\n",
    "jobs['description'] = jobs.JobDescription.str.replace('^Mission proposée par ([^<]+)<br />', '')\n",
    "jobs[['title', 'proposed_by', 'description']].drop_duplicates().head()"
   ]
  },
  {
   "cell_type": "markdown",
   "metadata": {},
   "source": [
    "Nice title, nice \"proposed by\" field. The description could probably be cleaned a bit more:"
   ]
  },
  {
   "cell_type": "code",
   "execution_count": 27,
   "metadata": {
    "collapsed": false
   },
   "outputs": [
    {
     "data": {
      "text/plain": [
       "True    1966\n",
       "Name: description, dtype: int64"
      ]
     },
     "execution_count": 27,
     "metadata": {},
     "output_type": "execute_result"
    }
   ],
   "source": [
    "jobs.description.str.startswith('<b>Informations complémentaires</b>').value_counts()"
   ]
  },
  {
   "cell_type": "markdown",
   "metadata": {},
   "source": [
    "As suspected it always continue with \"Informations complémentaires\", let's strip it as well."
   ]
  },
  {
   "cell_type": "code",
   "execution_count": 28,
   "metadata": {
    "collapsed": false
   },
   "outputs": [
    {
     "data": {
      "text/html": [
       "<div>\n",
       "<table border=\"1\" class=\"dataframe\">\n",
       "  <thead>\n",
       "    <tr style=\"text-align: right;\">\n",
       "      <th></th>\n",
       "      <th>title</th>\n",
       "      <th>proposed_by</th>\n",
       "      <th>description</th>\n",
       "    </tr>\n",
       "  </thead>\n",
       "  <tbody>\n",
       "    <tr>\n",
       "      <th>0</th>\n",
       "      <td>Délégué Régional du CLIP</td>\n",
       "      <td>Club Informatique Pénitentiaire</td>\n",
       "      <td>Le délégué régional du CLIP est désigné par le...</td>\n",
       "    </tr>\n",
       "    <tr>\n",
       "      <th>11</th>\n",
       "      <td>Community Manager Facebook</td>\n",
       "      <td>Construisons Ensemble Comment Faire</td>\n",
       "      <td>Mission  : Vous participez à la consolidation ...</td>\n",
       "    </tr>\n",
       "    <tr>\n",
       "      <th>22</th>\n",
       "      <td>Chargé(e) de projets humanitaires</td>\n",
       "      <td>BackUp Rural</td>\n",
       "      <td>1. Établir les dossiers de demande de subventi...</td>\n",
       "    </tr>\n",
       "    <tr>\n",
       "      <th>33</th>\n",
       "      <td>Equipier régional \"Mobilisation des entreprises\"</td>\n",
       "      <td>Association Française contre les Myopathies - ...</td>\n",
       "      <td>Cette   mission consiste à développer la mobil...</td>\n",
       "    </tr>\n",
       "    <tr>\n",
       "      <th>44</th>\n",
       "      <td>Community Manager - Archéologie</td>\n",
       "      <td>ArkéoTopia, une autre voie pour l'archéologie</td>\n",
       "      <td>Mission : Participez à l'animation du monde d'...</td>\n",
       "    </tr>\n",
       "  </tbody>\n",
       "</table>\n",
       "</div>"
      ],
      "text/plain": [
       "                                               title  \\\n",
       "0                           Délégué Régional du CLIP   \n",
       "11                        Community Manager Facebook   \n",
       "22                 Chargé(e) de projets humanitaires   \n",
       "33  Equipier régional \"Mobilisation des entreprises\"   \n",
       "44                   Community Manager - Archéologie   \n",
       "\n",
       "                                          proposed_by  \\\n",
       "0                     Club Informatique Pénitentiaire   \n",
       "11               Construisons Ensemble Comment Faire    \n",
       "22                                       BackUp Rural   \n",
       "33  Association Française contre les Myopathies - ...   \n",
       "44      ArkéoTopia, une autre voie pour l'archéologie   \n",
       "\n",
       "                                          description  \n",
       "0   Le délégué régional du CLIP est désigné par le...  \n",
       "11  Mission  : Vous participez à la consolidation ...  \n",
       "22  1. Établir les dossiers de demande de subventi...  \n",
       "33  Cette   mission consiste à développer la mobil...  \n",
       "44  Mission : Participez à l'animation du monde d'...  "
      ]
     },
     "execution_count": 28,
     "metadata": {},
     "output_type": "execute_result"
    }
   ],
   "source": [
    "jobs['description'] = jobs.description.str.replace('^<b>Informations complémentaires</b>', '').str.strip()\n",
    "jobs[['title', 'proposed_by', 'description']].drop_duplicates().head()"
   ]
  },
  {
   "cell_type": "markdown",
   "metadata": {},
   "source": [
    "OK, this is good enough for now!"
   ]
  },
  {
   "cell_type": "markdown",
   "metadata": {},
   "source": [
    "# Conclusion\n",
    "\n",
    "The data from `Tous Bénévoles` is quite clean and contains enough data to show an advice card pushing 3 different missions for about 60 cities, if we restrict it to city, or half of the départements if we extend to missions in the same département.\n",
    "\n",
    "However when using the data: be careful with the `City` field as it might sometimes contain more than just the city.\n",
    "\n",
    "We also need to go back to the partner to ask for an explanation on the missions in `LEFFRINCKOUCKE`.\n",
    "\n",
    "The original fields are not immediately usable, to get a clean title, the description or the organization that suggested the mission in the first place, you'll need some additional cleanup."
   ]
  }
 ],
 "metadata": {
  "kernelspec": {
   "display_name": "Python 3",
   "language": "python",
   "name": "python3"
  },
  "language_info": {
   "codemirror_mode": {
    "name": "ipython",
    "version": 3
   },
   "file_extension": ".py",
   "mimetype": "text/x-python",
   "name": "python",
   "nbconvert_exporter": "python",
   "pygments_lexer": "ipython3",
   "version": "3.5.2"
  }
 },
 "nbformat": 4,
 "nbformat_minor": 0
}
